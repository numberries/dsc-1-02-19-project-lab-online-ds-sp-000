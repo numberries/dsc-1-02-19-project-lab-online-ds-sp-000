{
 "cells": [
  {
   "cell_type": "markdown",
   "metadata": {},
   "source": [
    "# Project - Building a Calculator\n",
    "\n",
    "\n",
    "## Introduction \n",
    "\n",
    "In this project, you'll create a simple calculator which can perform basic arithmetic operations like addition, subtraction, multiplication or division depending upon the user input.\n",
    "\n",
    "## Objectives\n",
    "\n",
    "You will be able to:\n",
    "\n",
    "* Perform operations on various data types \n",
    "* Use loops to perform iteration \n",
    "* Use conditionals to make programming decisions\n",
    "* Define and use functions \n",
    "* Ingest and parse user input "
   ]
  },
  {
   "cell_type": "markdown",
   "metadata": {},
   "source": [
    "## Approach \n",
    "\n",
    "* User choose the desired operation. Options 1, 2, 3, 4 are valid options for operations.  \n",
    "* Two numbers are taken and an `if…elif…else` branching is used to execute a particular section.\n",
    "\n",
    "* Using functions `add()`, `subtract()`, `multiply()` and `divide()` evaluate respective operations.\n",
    "\n",
    "* The code should handle exceptions and must return **\"invalid input*** when an unexpected character is given in the input (anything other than 1 - 4)."
   ]
  },
  {
   "cell_type": "markdown",
   "metadata": {},
   "source": [
    "### Example Interface\n",
    "Here is the interface you are expected to build. Don't worry if it is not 100% exactly as what is shown. Focus more on the getting the logic correct at this stage. \n",
    "\n",
    "```\n",
    "Please select an operation:\n",
    "1. Add\n",
    "2. Subtract\n",
    "3. Multiply\n",
    "4. Divide\n",
    "\n",
    "Select operations form 1, 2, 3, 4 : 1\n",
    "Enter first number : 20\n",
    "Enter second number : 13\n",
    "20 + 13 = 33\n",
    "```"
   ]
  },
  {
   "cell_type": "markdown",
   "metadata": {},
   "source": [
    "### Creating Arithmatic Functions\n",
    "\n",
    "We shall create four functions, one for each arithmatic operation which will perform the required operation and resturn the resulting value as shown below:"
   ]
  },
  {
   "cell_type": "code",
   "execution_count": 1,
   "metadata": {},
   "outputs": [],
   "source": [
    "# Function to add two numbers \n",
    "def add(num1, num2):\n",
    "    #Perform the calculation\n",
    "    return num1 + num2"
   ]
  },
  {
   "cell_type": "code",
   "execution_count": 2,
   "metadata": {},
   "outputs": [],
   "source": [
    "# Function to subtract two numbers \n",
    "def subtract(num1, num2):\n",
    "    #Perform the calculation\n",
    "    return num1 - num2"
   ]
  },
  {
   "cell_type": "code",
   "execution_count": 3,
   "metadata": {},
   "outputs": [],
   "source": [
    "# Function to multiply two numbers\n",
    "def multiply(num1, num2):\n",
    "    #Perform the calculation\n",
    "    return num1 * num2"
   ]
  },
  {
   "cell_type": "code",
   "execution_count": 4,
   "metadata": {},
   "outputs": [],
   "source": [
    "# Function to divide two numbers\n",
    "def divide(num1, num2):\n",
    "    #Perform the calculation\n",
    "    return num1 / num2"
   ]
  },
  {
   "cell_type": "markdown",
   "metadata": {},
   "source": [
    "### Create a Command-line User Interface\n",
    "We shall now write the main program body to take user input and call the relevent function"
   ]
  },
  {
   "cell_type": "code",
   "execution_count": 13,
   "metadata": {},
   "outputs": [
    {
     "name": "stdout",
     "output_type": "stream",
     "text": [
      "Please select an operation:\n",
      "1. Add\n",
      "2. Subtract\n",
      "3. Multiply\n",
      "4. Divide\n",
      "\n",
      "Select operations form 1, 2, 3, 4 : 2\n",
      "You chose option 2\n",
      "Enter first number : 3\n",
      "Enter second number : 4\n",
      "Result: -1\n"
     ]
    }
   ],
   "source": [
    "# Print user menu \n",
    "print('Please select an operation:')\n",
    "print('1. Add')\n",
    "print('2. Subtract')\n",
    "print('3. Multiply')\n",
    "print('4. Divide\\n')\n",
    "\n",
    "# Take input from the user for operation , followed by numbers. \n",
    "x = int(input('Select operations form 1, 2, 3, 4 : '))\n",
    "print('You chose option',x)\n",
    "# Based on operation, pass the two numbers to respective function\n",
    "# Print the output in a nice manner\n",
    "# Print \"Invalid input\" if an unexpected character is seen in input\n",
    "if x == 1:\n",
    "    n1 = int(input('Enter first number : '))\n",
    "    n2 = int(input('Enter second number : '))\n",
    "    r =  add(n1, n2)\n",
    "    print('Result:', r)\n",
    "    \n",
    "elif x == 2:\n",
    "    n1 = int(input('Enter first number : '))\n",
    "    n2 = int(input('Enter second number : '))\n",
    "    r =  subtract(n1, n2)\n",
    "    print('Result:', r)\n",
    "    \n",
    "elif x == 3:\n",
    "    n1 = int(input('Enter first number : '))\n",
    "    n2 = int(input('Enter second number : '))\n",
    "    r =  multiply(n1, n2)\n",
    "    print('Result:', r)\n",
    "    \n",
    "elif x == 4:\n",
    "    n1 = int(input('Enter first number : '))\n",
    "    n2 = int(input('Enter second number : '))\n",
    "    r =  divide(n1, n2)\n",
    "    print('Result:', r)\n",
    "    \n",
    "else: \n",
    "    print('Invalid input')\n",
    "    \n",
    "# Expected output    \n",
    "\n",
    "# Please select operation -\n",
    "# 1. Add\n",
    "# 2. Subtract\n",
    "# 3. Multiply\n",
    "# 4. Divide\n",
    "\n",
    "# Select operations form 1, 2, 3, 4 :1\n",
    "# Enter first number: 2\n",
    "# Enter second number: 3\n",
    "# 2 + 3 = 5"
   ]
  },
  {
   "cell_type": "markdown",
   "metadata": {},
   "source": [
    "## Bring in the While loop\n",
    "\n",
    "We can see how the logic set by using if-else statements, along with functions can be used to control the flow of the program in an easy way. Let's add more functionality to our calculator as below:\n",
    "\n",
    ">Lets try to make it a bit more interesting by introducing the behaviour of a real calculator so our users can choose to either continue with calculationa OR exit the system. Users gets this functionality by pressing `y` for yes and `n` for no towards continuation.\n",
    "\n",
    "### Example Interface\n",
    "\n",
    "**Notice `continue: y/n` at the bottom of interface.**\n",
    "\n",
    "```\n",
    "Please select an operation:\n",
    "1. Add\n",
    "2. Subtract\n",
    "3. Multiply\n",
    "4. Divide\n",
    "\n",
    "Select operations form 1, 2, 3, 4 : 1\n",
    "Enter first number : 20\n",
    "Enter second number : 13\n",
    "20 + 13 = 33\n",
    "\n",
    "Continue: y/n\n",
    "```\n",
    "\n",
    "Let's work towards implementing iteration into the equation and enclose above I/O interface inside a while loops."
   ]
  },
  {
   "cell_type": "code",
   "execution_count": 14,
   "metadata": {},
   "outputs": [
    {
     "name": "stdout",
     "output_type": "stream",
     "text": [
      "Select operations form 1, 2, 3, 4 :\n",
      "2\n",
      "You chose option 2 !\n",
      "Enter first number : 3\n",
      "Enter second number : 4\n",
      "Result: -1\n",
      "Continue? y/n:n\n"
     ]
    }
   ],
   "source": [
    "# Initialize the code with cont (continue) flag set to yes (y)\n",
    "cont = 'y'\n",
    "\n",
    "# Check for user input after each iteration of the code in a while loop\n",
    "while cont == 'y':\n",
    "\n",
    "        # Enclose the I/O  code block inside the while loop\n",
    "    print('Select operations form 1, 2, 3, 4 :')\n",
    "    x = int(input())\n",
    "    print('You chose option',x,'!')\n",
    "    # Based on operation, pass the two numbers to respective function\n",
    "    # Print the output in a nice manner\n",
    "    # Print \"Invalid input\" if an unexpected character is seen in input\n",
    "    if x == 1:\n",
    "        n1 = int(input('Enter first number : '))\n",
    "        n2 = int(input('Enter second number : '))\n",
    "        r =  add(n1, n2)\n",
    "        print('Result:', r)\n",
    "    \n",
    "    elif x == 2:\n",
    "        n1 = int(input('Enter first number : '))\n",
    "        n2 = int(input('Enter second number : '))\n",
    "        r =  subtract(n1, n2)\n",
    "        print('Result:', r)\n",
    "    \n",
    "    elif x == 3:\n",
    "        n1 = int(input('Enter first number : '))\n",
    "        n2 = int(input('Enter second number : '))\n",
    "        r =  multiply(n1, n2)\n",
    "        print('Result:', r)\n",
    "    \n",
    "    elif x == 4:\n",
    "        n1 = int(input('Enter first number : '))\n",
    "        n2 = int(input('Enter second number : '))\n",
    "        r =  divide(n1, n2)\n",
    "        print('Result:', r)\n",
    "    \n",
    "    else: \n",
    "        print('Invalid input')       \n",
    "    \n",
    "    cont = input('Continue? y/n:')\n",
    "    if cont == \"n\":\n",
    "        break\n",
    "#Expected output format\n",
    "\n",
    "# Select operations form 1, 2, 3, 4 :4\n",
    "# Enter first number: 5\n",
    "# Enter second number: 4\n",
    "# Press d for division and m for modulo operatorm\n",
    "# 5 / 4 = 1\n",
    "# Continue? y/n:y\n",
    "# Select operations form 1, 2, 3, 4 :4\n",
    "# Enter first number: 5\n",
    "# Enter second number: 4\n",
    "# Press d for division and m for modulo operatord\n",
    "# 5 / 4 = 1.25"
   ]
  },
  {
   "cell_type": "markdown",
   "metadata": {},
   "source": [
    "## Level up (Optional)\n",
    "\n",
    "The while loop shown above allows the iteration through the code until a specific input from user i.e. `n` is noticed. Let's add some more functionality to this code by asking users about the type of division they are interested in, and this could be either normal division (as before) or a modulo operator (shows remainder).\n",
    "\n",
    ">Change the code in the division function so that if a user selects division operation, the code should ask the user if he/she wants a normal division `/` (int) or `//` (float) , or a module `%` operator which only returns the remainder of a division. The program should return an exception for any other inputs. "
   ]
  },
  {
   "cell_type": "code",
   "execution_count": 16,
   "metadata": {},
   "outputs": [
    {
     "name": "stdout",
     "output_type": "stream",
     "text": [
      "integer division(/), float division(//), or module(%)?\n",
      "/\n"
     ]
    },
    {
     "data": {
      "text/plain": [
       "0.5"
      ]
     },
     "execution_count": 16,
     "metadata": {},
     "output_type": "execute_result"
    }
   ],
   "source": [
    "def divide_v2(num1, num2):\n",
    "    #Perform the calculation\n",
    "    print('integer division(/), float division(//), or module(%)?')\n",
    "    div = input()\n",
    "    if div == '/':\n",
    "        return num1/num2\n",
    "    elif div == '//':\n",
    "        return num1//num2\n",
    "    elif div == '%':\n",
    "        return num1%num2\n",
    "    else:\n",
    "        print('Invalid output')\n",
    "        return None\n",
    "divide_v2(1,2)"
   ]
  },
  {
   "cell_type": "markdown",
   "metadata": {},
   "source": [
    "### Summary\n",
    "\n",
    "In this lab we saw how loops and conditions can be used to control the logic of a program execution based on user input. We started with building a simple calculator and incrementaly added more functionality to it by adding loops for iteration and further conditions allowing different type of calculations. We also practiced User I/O by taking choices from the users and dealing with exceptions (unexpected input). "
   ]
  }
 ],
 "metadata": {
  "kernelspec": {
   "display_name": "learn-env",
   "language": "python",
   "name": "learn-env"
  },
  "language_info": {
   "codemirror_mode": {
    "name": "ipython",
    "version": 3
   },
   "file_extension": ".py",
   "mimetype": "text/x-python",
   "name": "python",
   "nbconvert_exporter": "python",
   "pygments_lexer": "ipython3",
   "version": "3.6.6"
  }
 },
 "nbformat": 4,
 "nbformat_minor": 2
}
